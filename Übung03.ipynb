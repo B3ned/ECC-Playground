{
 "cells": [
  {
   "metadata": {
    "ExecuteTime": {
     "end_time": "2025-05-24T08:34:31.451610Z",
     "start_time": "2025-05-24T08:34:31.443090Z"
    }
   },
   "cell_type": "code",
   "source": [
    "class EllipticCurve:\n",
    "    def __init__(self, ec_a, ec_b, ec_p):\n",
    "        # TODO Komprimierte Form einbauen result = a if a else b -> Nur mit Hex form arbeiten und unten die Tests überarbeiten\n",
    "        self.ec_a = transformer(ec_a)\n",
    "        self.ec_b = transformer(ec_b)\n",
    "        self.ec_p = transformer(ec_p)\n",
    "        '''\n",
    "        ECC like y**2 = x**3 + ax + b\n",
    "        :param x: x value of ECC in int or hex in str\n",
    "        :param ec_a: steigung der ECC in int or hex in str\n",
    "        :param ec_b: Const of ECC in int or hex in str\n",
    "        :param ec_p: GF of ECC in int or hex in str\n",
    "        '''\n",
    "    def getY(self, ec_x):\n",
    "        # TODO Vielleicht falsch impl nochmal drüber gucken\n",
    "        \"\"\"\n",
    "        :param ec_x: X in komprimierter Form mit prefix 0x in str\n",
    "        :return: y Value if exists\n",
    "        \"\"\"\n",
    "        prefix, x = hexTransformer(ec_x)\n",
    "        y2 =  pow(x,3,ec_p) + ec_a * x + ec_b\n",
    "        if not isResidue(y2, self.ec_p):\n",
    "            print(\"Punkt liegt nicht auf der Kurve\")\n",
    "            return None\n",
    "        if y2 % 4 == 3:\n",
    "            y =  pow(y2, modDivision(self.ec_p+1, 4, self.ec_p), ec_p)\n",
    "            if prefix % 2 == 0 and y % 2 == 0:\n",
    "                print(y)\n",
    "                return y\n",
    "            else:\n",
    "                return (ec_p - y) % ec_p\n",
    "        else:\n",
    "            raise NotImplementedError(\"Tonelli-Shanks nicht implementiert bro\")\n",
    "\n",
    "    def point_add(self, P, Q):\n",
    "        if P == \"neutral\" or Q == \"neutral\":\n",
    "            return \"neutral\"\n",
    "        x1, y1 = P\n",
    "        x2, y2 = Q\n",
    "        if x1  == x2 and (y1 + y2) % self.ec_p == 0 :\n",
    "            return \"neutral\"\n",
    "        if x1 == x2 and y1 == y2 :\n",
    "           s = modDivision(3 * pow(x1,2)+ self.ec_a, 2 * y1, self.ec_p)\n",
    "           x3 = (pow(s,2) - 2 * x1) % self.ec_p\n",
    "           y3 = (s * (x1 -x3) -y1) % self.ec_p\n",
    "        else:\n",
    "            s = modDivision(y2-y1, x2-x1, self.ec_p)\n",
    "            x3 = (pow(s,2) - x1 - x2) % self.ec_p\n",
    "            y3 = (s * (x1-x3) -y1) % self.ec_p\n",
    "        return x3, y3\n",
    "\n",
    "    def point_sub(self, P, Q):\n",
    "        x1, y1 = P\n",
    "        x2, y2 = Q\n",
    "        return self.point_add((x1,y1),(x2,-y2))\n",
    "\n",
    "\n",
    "\n"
   ],
   "id": "130d2d0dd5fd898a",
   "outputs": [],
   "execution_count": 72
  },
  {
   "metadata": {
    "ExecuteTime": {
     "end_time": "2025-05-25T14:37:09.493198Z",
     "start_time": "2025-05-25T14:37:09.488754Z"
    }
   },
   "cell_type": "code",
   "source": [
    "#ModArith\n",
    "def modinv(ec_a, p):\n",
    "        return pow(ec_a, -1, p)\n",
    "def modDivision(x, y, p):\n",
    "    return ((x % p) * pow(y, -1, p)) % p\n",
    "def isResidue(z, p):\n",
    "    # Euler Kriterium\n",
    "    return (z ** modDivision(p-1, 2, p)) % p == 1\n",
    "print(pow(1, modDivision(17+1, 4, 17), 17))\n",
    "\n",
    "\n",
    "#Hilfsmethoden\n",
    "def transformer(s):\n",
    "    if type(s) == int:\n",
    "        return s\n",
    "    if s.startswith('0x'):\n",
    "        return int(s, 16)\n",
    "\n",
    "    raise Exception(\"Falscher Eingabewert\")\n",
    "def hexTransformer(s: str):\n",
    "    if type(s) == int:\n",
    "        return s\n",
    "    if not s.startswith('0x'):\n",
    "        print(\"Falscher Eingabewert\")\n",
    "        return None\n",
    "    s = s.replace('0x', '')\n",
    "    prefix = s[2:4]\n",
    "    s = s[:2] + s[4:]\n",
    "    return int(prefix), int(s,16)\n",
    "print(int(\"0x224\",16))\n",
    "hexTransformer(0x224)\n",
    "hexTransformer(0x03)\n"
   ],
   "id": "c90fd5994787137a",
   "outputs": [
    {
     "name": "stdout",
     "output_type": "stream",
     "text": [
      "1\n",
      "548\n",
      "43690\n"
     ]
    }
   ],
   "execution_count": 48
  },
  {
   "metadata": {
    "ExecuteTime": {
     "end_time": "2025-05-24T08:34:36.713463Z",
     "start_time": "2025-05-24T08:34:36.686825Z"
    }
   },
   "cell_type": "code",
   "source": [
    "x = hex(3131314)\n",
    "print(type(x) == hex)\n",
    "print(x)\n",
    "ec_p = 31\n",
    "ec_a = 16\n",
    "ec_b = 7\n",
    "E = EllipticCurve(ec_a, ec_b, ec_p)\n",
    "\n",
    "P1 = (23,7)\n",
    "P2 = (23,24)\n",
    "Px = P1\n",
    "for k in range(37):\n",
    "    Px = E.point_add(Px, P1)\n",
    "    if Px == P2:\n",
    "        print(k+2)\n",
    "\n",
    "# Testing Modulare Arithmetic\n",
    "assert modDivision(5,7,31) == 14\n",
    "assert isResidue(1, 17) == True\n",
    "\n",
    "# Testing ECC\n",
    "assert E.point_add((23,7),(23,24)) == \"neutral\"\n",
    "assert E.point_add((2,4),(6,3)) == (25,25)\n",
    "assert E.point_sub((2,4),(6,3)) == (28,26)\n",
    "assert transformer(hex(313)) == 313\n",
    "assert transformer(\"0x139\") == 313\n",
    "assert transformer(313) == 313\n",
    "#E.transformer(\"Hallo\")\n",
    "t = (0o3, int(\"032ef3d968e2a32804c755414101e5f93de41bcdc099bfb4289fc940629385f0\", 16))\n",
    "assert hexTransformer(\"0x03032ef3d968e2a32804c755414101e5f93de41bcdc099bfb4289fc940629385f0\") == (3, int(\"032ef3d968e2a32804c755414101e5f93de41bcdc099bfb4289fc940629385f0\", 16))\n",
    "\n",
    "\n",
    "# ECC gety\n",
    "E = EllipticCurve(2,2,17)\n"
   ],
   "id": "initial_id",
   "outputs": [
    {
     "name": "stdout",
     "output_type": "stream",
     "text": [
      "False\n",
      "0x2fc7b2\n",
      "36\n",
      "Punkt liegt nicht auf der Kurve\n"
     ]
    },
    {
     "ename": "AssertionError",
     "evalue": "",
     "output_type": "error",
     "traceback": [
      "\u001B[31m---------------------------------------------------------------------------\u001B[39m",
      "\u001B[31mAssertionError\u001B[39m                            Traceback (most recent call last)",
      "\u001B[36mCell\u001B[39m\u001B[36m \u001B[39m\u001B[32mIn[80]\u001B[39m\u001B[32m, line 35\u001B[39m\n\u001B[32m     33\u001B[39m \u001B[38;5;66;03m# ECC gety\u001B[39;00m\n\u001B[32m     34\u001B[39m E = EllipticCurve(\u001B[32m2\u001B[39m,\u001B[32m2\u001B[39m,\u001B[32m17\u001B[39m)\n\u001B[32m---> \u001B[39m\u001B[32m35\u001B[39m \u001B[38;5;28;01massert\u001B[39;00m E.getY(\u001B[33m\"\u001B[39m\u001B[33m0x0305\u001B[39m\u001B[33m\"\u001B[39m) == \u001B[32m1\u001B[39m\n",
      "\u001B[31mAssertionError\u001B[39m: "
     ]
    }
   ],
   "execution_count": 80
  },
  {
   "metadata": {
    "ExecuteTime": {
     "end_time": "2025-05-25T13:10:47.625097Z",
     "start_time": "2025-05-25T13:10:47.619163Z"
    }
   },
   "cell_type": "code",
   "source": [
    "INF = (0,1,0)\n",
    "class EllipticCurve:\n",
    "    def __init__(self, ec_a, ec_b, ec_p):\n",
    "        self.ec_a = ec_a\n",
    "        self.ec_b = ec_b\n",
    "        self.ec_p = ec_p\n",
    "\n",
    "        '''\n",
    "        ECC like y**2 = x**3 + ax + b\n",
    "        :param x: x value of ECC in int or hex in str\n",
    "        :param ec_a: steigung der ECC in int or hex in str\n",
    "        :param ec_b: Const of ECC in int or hex in str\n",
    "        :param ec_p: GF of ECC in int or hex in str\n",
    "        '''\n",
    "\n",
    "    def proj_add(self, P: (int,int,int), Q: (int,int,int)):\n",
    "        if P == INF:\n",
    "            return Q\n",
    "        if Q == INF:\n",
    "            return P\n",
    "\n",
    "        X1, Y1, Z1 = P\n",
    "        X2, Y2, Z2 = Q\n",
    "        U1 = (Y2 * Z1) % self.ec_p\n",
    "        U2 = (Y1 * Z2) % self.ec_p\n",
    "        V1 = (X2 * Z1) % self.ec_p\n",
    "        V2 = (X1 * Z2) % self.ec_p\n",
    "        U = (U1 - U2) % self.ec_p\n",
    "        V = (V1 - V2) % self.ec_p\n",
    "\n",
    "        if V == 0:\n",
    "            # check if Q is invers to P\n",
    "            if U != 0:\n",
    "                return INF\n",
    "            # check if P is Q\n",
    "            return self.proj_dbl(P)\n",
    "\n",
    "        W = (Z1 * Z2) % self.ec_p\n",
    "        A = (U**2 * W - V**3 - 2 * V**2 * V2) % self.ec_p\n",
    "        X3 = (V * A) % self.ec_p\n",
    "        Y3 = (U * (V**2 * V2 - A) - V**3 * U2) % self.ec_p\n",
    "        Z3 = (V**3 * W) % self.ec_p\n",
    "        return X3, Y3, Z3\n",
    "\n",
    "\n",
    "    def proj_dbl(self, P: (int,int,int)):\n",
    "        X, Y, Z = P\n",
    "        W = (3 * X**2 + self.ec_a * Z**2) % self.ec_p\n",
    "        S = (Y * Z) % self.ec_p\n",
    "        B = (X * Y * S) % self.ec_p\n",
    "        H = (W**2 - 8 * B) % self.ec_p\n",
    "        X2 = (2 * H * S) % self.ec_p\n",
    "        Y2 = (W * (4 * B - H) - 8 * Y**2 * S**2) % self.ec_p\n",
    "        Z2 = (8 * S**3) % self.ec_p\n",
    "        return X2, Y2, Z2\n"
   ],
   "id": "67e1080ba4939247",
   "outputs": [],
   "execution_count": 6
  },
  {
   "metadata": {
    "ExecuteTime": {
     "end_time": "2025-05-25T14:32:53.723216Z",
     "start_time": "2025-05-25T14:32:53.719190Z"
    }
   },
   "cell_type": "code",
   "source": [
    "# Hilfsmethoden\n",
    "def projtoaffin(P: (int,int,int), ec_p):\n",
    "    X, Y, Z = P\n",
    "    return modDivision(X, Z, ec_p), modDivision(Y, Z, ec_p), 1"
   ],
   "id": "eeecbdeba6516f03",
   "outputs": [],
   "execution_count": 42
  },
  {
   "metadata": {
    "ExecuteTime": {
     "end_time": "2025-05-25T14:37:57.498547Z",
     "start_time": "2025-05-25T14:37:57.492530Z"
    }
   },
   "cell_type": "code",
   "source": [
    "ec_a = 0x7D5A0975FC2C3057EEF67530417AFFE7FB8055C126DC5C6CE94A4B44F330B5D9\n",
    "ec_p = 0xA9FB57DBA1EEA9BC3E660A909D838D726E3BF623D52620282013481D1F6E5377\n",
    "ec_b = 0x26DC5C6CE94A4B44F330B5D9BBD77CBF958416295CF7E1CE6BCCDC18FF8C07B6\n",
    "E = EllipticCurve(ec_a, ec_b, ec_p)\n",
    "P1 = (60306380415904663168568911239273826053144841234228559299517684417361346433053, 74653857005150983469598545140707432309023702960881435319026826228339031179596, 1)\n",
    "\n",
    "P2 = E.proj_add(P1, P1)\n",
    "Zinv = pow(Z3, -1, ec_p)\n",
    "P_affin = projtoaffin(P2, ec_p)\n",
    "P_affin"
   ],
   "id": "7c52710412de8767",
   "outputs": [
    {
     "data": {
      "text/plain": [
       "(74272161119054482720136981356270225780760229971611380324482072562025359940783,\n",
       " 16405134000021918301262967552706457760831838374421496340393934000725840836545,\n",
       " 1)"
      ]
     },
     "execution_count": 58,
     "metadata": {},
     "output_type": "execute_result"
    }
   ],
   "execution_count": 58
  }
 ],
 "metadata": {
  "kernelspec": {
   "display_name": "Python 3",
   "language": "python",
   "name": "python3"
  },
  "language_info": {
   "codemirror_mode": {
    "name": "ipython",
    "version": 2
   },
   "file_extension": ".py",
   "mimetype": "text/x-python",
   "name": "python",
   "nbconvert_exporter": "python",
   "pygments_lexer": "ipython2",
   "version": "2.7.6"
  }
 },
 "nbformat": 4,
 "nbformat_minor": 5
}
