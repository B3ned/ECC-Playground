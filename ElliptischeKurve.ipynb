{
 "cells": [
  {
   "cell_type": "code",
   "id": "initial_id",
   "metadata": {
    "collapsed": true,
    "ExecuteTime": {
     "end_time": "2025-06-05T19:57:43.705348Z",
     "start_time": "2025-06-05T19:57:43.607123Z"
    }
   },
   "source": [
    "# Bei änderungen an .py restart Kernel\n",
    "import ElliptischeKurve"
   ],
   "outputs": [],
   "execution_count": 1
  },
  {
   "metadata": {
    "ExecuteTime": {
     "end_time": "2025-06-05T19:57:45.379536Z",
     "start_time": "2025-06-05T19:57:45.376857Z"
    }
   },
   "cell_type": "code",
   "source": [
    "# Testing Modulare Arithmetic\n",
    "assert ElliptischeKurve.modDivision(5,7,31) == 14\n",
    "assert ElliptischeKurve.isResidue(1, 17) == True"
   ],
   "id": "2e5b6c1a07d191bf",
   "outputs": [],
   "execution_count": 2
  },
  {
   "metadata": {
    "ExecuteTime": {
     "end_time": "2025-06-05T20:05:34.297583Z",
     "start_time": "2025-06-05T20:05:34.293900Z"
    }
   },
   "cell_type": "code",
   "source": [
    "# Testing ECC\n",
    "ec_p = 31\n",
    "ec_a = 16\n",
    "ec_b = 7\n",
    "ec_n = 0xA9FB57DBA1EEA9BC3E660A909D838D718C397AA3B561A6F7901E0E82974856A7\n",
    "E = ElliptischeKurve.EllipticCurve(ec_a, ec_b, ec_p, ec_n)\n",
    "\n",
    "assert E.aff_add((23,7),(23,24)) == \"neutral\"\n",
    "assert E.aff_add((2,4),(6,3)) == (25,25)\n",
    "assert E.aff_sub((2,4),(6,3)) == (28,26)\n",
    "print(E.projtoaffin(E.proj_add((2,4,1),(6,3,1))))"
   ],
   "id": "228c754fd7963aa9",
   "outputs": [
    {
     "name": "stdout",
     "output_type": "stream",
     "text": [
      "(25, 25)\n"
     ]
    }
   ],
   "execution_count": 9
  },
  {
   "metadata": {
    "ExecuteTime": {
     "end_time": "2025-05-30T21:58:16.511639Z",
     "start_time": "2025-05-30T21:58:16.507790Z"
    }
   },
   "cell_type": "code",
   "source": [
    "ec_p = 0xA9FB57DBA1EEA9BC3E660A909D838D726E3BF623D52620282013481D1F6E5377\n",
    "ec_a = 0x7D5A0975FC2C3057EEF67530417AFFE7FB8055C126DC5C6CE94A4B44F330B5D9\n",
    "ec_b = 0x26DC5C6CE94A4B44F330B5D9BBD77CBF958416295CF7E1CE6BCCDC18FF8C07B6\n",
    "ec_n = 0xA9FB57DBA1EEA9BC3E660A909D838D718C397AA3B561A6F7901E0E82974856A7\n",
    "ec_gx= 0x8BD2AEB9CB7E57CB2C4B482FFC81B7AFB9DE27E1E3BD23C23A4453BD9ACE3262\n",
    "ec_gy= 0x547EF835C3DAC4FD97F8461A14611DC9C27745132DED8E545C1D54C72F046997\n",
    "ec_h = 1\n",
    "E = ElliptischeKurve.EllipticCurve(ec_a, ec_b, ec_p, ec_n)\n",
    "#Affiner add Test\n",
    "P1 = (60306380415904663168568911239273826053144841234228559299517684417361346433053,74653857005150983469598545140707432309023702960881435319026826228339031179596)\n",
    "assert E.aff_add(P1,P1) == (74272161119054482720136981356270225780760229971611380324482072562025359940783, 16405134000021918301262967552706457760831838374421496340393934000725840836545)\n",
    "# Projektiver add Test\n",
    "P2 = (60306380415904663168568911239273826053144841234228559299517684417361346433053,74653857005150983469598545140707432309023702960881435319026826228339031179596, 1)\n",
    "\n",
    "# Transformationen\n",
    "assert E.affintoproj(P1) == (60306380415904663168568911239273826053144841234228559299517684417361346433053,74653857005150983469598545140707432309023702960881435319026826228339031179596, 1)\n",
    "# Skalarmultiplikation\n",
    "Pt = E.aff_add(P1,P1)\n",
    "assert E.skalarmult(3,P1) == E.aff_add(Pt, P1)\n",
    "print(E.skalarmult(4, (0,1,0)))"
   ],
   "id": "92ab6814c0be37cc",
   "outputs": [
    {
     "name": "stdout",
     "output_type": "stream",
     "text": [
      "(0, 1, 0)\n"
     ]
    }
   ],
   "execution_count": 4
  },
  {
   "metadata": {
    "ExecuteTime": {
     "end_time": "2025-05-30T21:58:16.570124Z",
     "start_time": "2025-05-30T21:58:16.557546Z"
    }
   },
   "cell_type": "code",
   "source": [
    "# Checking ECDHE\n",
    "G = (60306380415904663168568911239273826053144841234228559299517684417361346433053,74653857005150983469598545140707432309023702960881435319026826228339031179596)\n",
    "p_Alice = E.privkeygen()\n",
    "P_Alice = E.skalarmult(p_Alice,G)\n",
    "\n",
    "p_Bob = E.privkeygen()\n",
    "P_Bob = E.skalarmult(p_Bob,G)\n",
    "z_A = E.skalarmult(p_Alice,P_Bob)\n",
    "z_B = E.skalarmult(p_Bob,P_Alice)\n",
    "print(z_A == z_B)"
   ],
   "id": "5dc7d5414c5e78d0",
   "outputs": [
    {
     "name": "stdout",
     "output_type": "stream",
     "text": [
      "True\n"
     ]
    }
   ],
   "execution_count": 5
  },
  {
   "metadata": {
    "ExecuteTime": {
     "end_time": "2025-05-30T22:04:57.249203Z",
     "start_time": "2025-05-30T22:04:57.246123Z"
    }
   },
   "cell_type": "code",
   "source": [
    "ec_p = 0x80000000000000000000000FF\n",
    "ec_a = 0x7D5A0975FC2C3057EEF67530417AFFE7FB8055C126DC5C6CE94A4B44F330B5D9\n",
    "ec_b = 0x26DC5C6CE94A4B44F330B5D9BBD77CBF958416295CF7E1CE6BCCDC18FF8C07B6\n",
    "x = 0x0EB454766FC2E2C43991\n",
    "Ecc = ElliptischeKurve.EllipticCurve(ec_a, ec_b, ec_p, ec_n)\n",
    "y2 = (pow(x, 3, ec_p) + ec_a * x + ec_b) % ec_p\n",
    "print(x)\n",
    "print(ElliptischeKurve.isResidue(y2,ec_p) and y2 % 4 == 3)"
   ],
   "id": "1ad7e52f31659c11",
   "outputs": [
    {
     "name": "stdout",
     "output_type": "stream",
     "text": [
      "69439630868272008935825\n",
      "True\n"
     ]
    }
   ],
   "execution_count": 21
  },
  {
   "metadata": {
    "ExecuteTime": {
     "end_time": "2025-05-30T22:05:57.157492Z",
     "start_time": "2025-05-30T22:05:57.153018Z"
    }
   },
   "cell_type": "code",
   "source": [
    "ec_p = 0x80000000000000000000000FF\n",
    "ec_a = 0x7D5A0975FC2C3057EEF67530417AFFE7FB8055C126DC5C6CE94A4B44F330B5D9\n",
    "ec_b = 0x26DC5C6CE94A4B44F330B5D9BBD77CBF958416295CF7E1CE6BCCDC18FF8C07B6\n",
    "x = \"0x020EB454766FC2E2C43991\"\n",
    "Ecc = ElliptischeKurve.EllipticCurve(ec_a, ec_b, ec_p, ec_n)\n",
    "realX = x[4:]\n",
    "print(realX)\n",
    "y = Ecc.aff_getY(x)\n",
    "print(int(realX,16) % ec_p,y)"
   ],
   "id": "f543b0a811006085",
   "outputs": [
    {
     "name": "stdout",
     "output_type": "stream",
     "text": [
      "0EB454766FC2E2C43991\n",
      "in erste if\n",
      "69439630868272008935825 41440625855346096463478249330\n"
     ]
    }
   ],
   "execution_count": 24
  },
  {
   "metadata": {
    "ExecuteTime": {
     "end_time": "2025-06-04T12:09:35.525895Z",
     "start_time": "2025-06-04T12:09:35.523474Z"
    }
   },
   "cell_type": "code",
   "source": "",
   "id": "6caefd05b0b11fb6",
   "outputs": [],
   "execution_count": null
  }
 ],
 "metadata": {
  "kernelspec": {
   "display_name": "Python 3",
   "language": "python",
   "name": "python3"
  },
  "language_info": {
   "codemirror_mode": {
    "name": "ipython",
    "version": 2
   },
   "file_extension": ".py",
   "mimetype": "text/x-python",
   "name": "python",
   "nbconvert_exporter": "python",
   "pygments_lexer": "ipython2",
   "version": "2.7.6"
  }
 },
 "nbformat": 4,
 "nbformat_minor": 5
}
