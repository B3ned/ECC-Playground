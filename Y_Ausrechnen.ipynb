{
 "cells": [
  {
   "cell_type": "code",
   "id": "initial_id",
   "metadata": {
    "collapsed": true,
    "ExecuteTime": {
     "end_time": "2025-05-16T09:15:27.296164Z",
     "start_time": "2025-05-16T09:15:26.616388Z"
    }
   },
   "source": [
    "from numpy.f2py.auxfuncs import throw_error\n",
    "from sympy.ntheory.residue_ntheory import sqrt_mod\n"
   ],
   "outputs": [],
   "execution_count": 28
  },
  {
   "metadata": {},
   "cell_type": "markdown",
   "source": "- Gegeben ist die EC brainpoolP256r1",
   "id": "97b8529c67e24009"
  },
  {
   "metadata": {
    "ExecuteTime": {
     "end_time": "2025-05-16T10:09:27.879690Z",
     "start_time": "2025-05-16T10:09:27.860155Z"
    }
   },
   "cell_type": "code",
   "source": [
    "x = int(\"4755d6a98fd94e2921255e444123bf1c30790d08fdd94b3f61d5b335b001ce43\", 16)\n",
    "\n",
    "p = int(\"A9FB57DBA1EEA9BC3E660A909D838D726E3BF623D52620282013481D1F6E5377\", 16)\n",
    "a = int(\"7D5A0975FC2C3057EEF67530417AFFE7FB8055C126DC5C6CE94A4B44F330B5D9\", 16)\n",
    "b = int(\"26DC5C6CE94A4B44F330B5D9BBD77CBF958416295CF7E1CE6BCCDC18FF8C07B6\", 16)\n",
    "y_squared = (pow(x, 3, p) + (a * x % p) + b) % p\n",
    "\n",
    "is_residue = pow(y_squared, (p - 1) // 2, p)\n",
    "if is_residue != 1:\n",
    "    raise ValueError(\"Ungültiger Punkt: keine Wurzel vorhanden\")\n",
    "y = sqrt_mod(y_squared, p, all_roots=False)\n",
    "print(y)\n",
    "print(p % 4)\n",
    "print((p - (pow(y_2,(p+1)//4, p)))%p)\n",
    "#Wenn -y gegeben ist, dann (p-y_neg) % p"
   ],
   "id": "f80f9a199f79c32",
   "outputs": [
    {
     "name": "stdout",
     "output_type": "stream",
     "text": [
      "13413648100092401417280826788557516006552094978996902781897658548141800891560\n",
      "3\n",
      "13413648100092401417280826788557516006552094978996902781897658548141800891560\n",
      "1\n"
     ]
    }
   ],
   "execution_count": 40
  },
  {
   "metadata": {
    "ExecuteTime": {
     "end_time": "2025-05-16T09:55:52.534604Z",
     "start_time": "2025-05-16T09:55:52.531381Z"
    }
   },
   "cell_type": "code",
   "source": "print(hex(2))",
   "id": "a91f21f46a3db29c",
   "outputs": [
    {
     "name": "stdout",
     "output_type": "stream",
     "text": [
      "0x2\n"
     ]
    }
   ],
   "execution_count": 39
  },
  {
   "metadata": {
    "ExecuteTime": {
     "end_time": "2025-05-16T10:36:01.214416Z",
     "start_time": "2025-05-16T10:36:01.208642Z"
    }
   },
   "cell_type": "code",
   "source": [
    "x = \"4755d6a98fd94e2921255e444123bf1c30790d08fdd94b3f61d5b335b001ce43\"\n",
    "# Paritätsbit  = 02\n",
    "p = int(\"A9FB57DBA1EEA9BC3E660A909D838D726E3BF623D52620282013481D1F6E5377\", 16)\n",
    "a = int(\"7D5A0975FC2C3057EEF67530417AFFE7FB8055C126DC5C6CE94A4B44F330B5D9\", 16)\n",
    "b = int(\"26DC5C6CE94A4B44F330B5D9BBD77CBF958416295CF7E1CE6BCCDC18FF8C07B6\", 16)\n",
    "\n",
    "x = int(x, 16)\n",
    "y_2 = (pow(x, 3, p) + a * x + b) % p\n",
    "QR = pow(y_2, (p - 1) // 2, p)\n",
    "if QR != 1:\n",
    "    throw_error(\"Punkt liegt nicht auf der Kurve\")\n",
    "if y_2 % 4 == 3:\n",
    "    w = pow(y_2,(p+1) // 4, p)\n",
    "# Da Paritäts = 02\n",
    "if w % 2 == 0:\n",
    "    print(f\"y ist: {w}\")\n",
    "if w % 2 == 1:\n",
    "    print(f\"y ist: {(p-w) % p}\")\n"
   ],
   "id": "e398cb46a4d6efa2",
   "outputs": [
    {
     "name": "stdout",
     "output_type": "stream",
     "text": [
      "y ist: 13413648100092401417280826788557516006552094978996902781897658548141800891560\n"
     ]
    }
   ],
   "execution_count": 44
  }
 ],
 "metadata": {
  "kernelspec": {
   "display_name": "Python 3",
   "language": "python",
   "name": "python3"
  },
  "language_info": {
   "codemirror_mode": {
    "name": "ipython",
    "version": 2
   },
   "file_extension": ".py",
   "mimetype": "text/x-python",
   "name": "python",
   "nbconvert_exporter": "python",
   "pygments_lexer": "ipython2",
   "version": "2.7.6"
  }
 },
 "nbformat": 4,
 "nbformat_minor": 5
}
